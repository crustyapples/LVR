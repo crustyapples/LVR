{
 "cells": [
  {
   "cell_type": "code",
   "execution_count": 40,
   "metadata": {},
   "outputs": [
    {
     "name": "stdout",
     "output_type": "stream",
     "text": [
      "{'data': {'position': {'id': '453456', 'collectedFeesToken0': '0', 'collectedFeesToken1': '0', 'liquidity': '16710699527998922821997', 'depositedToken0': '344687.818185699057688261', 'depositedToken1': '137.06445273854783091', 'token0': {'id': '0x6dea81c8171d0ba574754ef6f8b412f2ed88c54d', 'symbol': 'LQTY', 'decimals': '18'}, 'token1': {'id': '0xc02aaa39b223fe8d0a0e5c4f27ead9083c756cc2', 'symbol': 'WETH', 'decimals': '18'}}}}\n"
     ]
    }
   ],
   "source": [
    "import requests\n",
    "import json\n",
    "\n",
    "url = \"https://api.thegraph.com/subgraphs/name/uniswap/uniswap-v3\"\n",
    "\n",
    "query = \"\"\"\n",
    "query($positionId: String!, $blockNumber: Int!) {\n",
    "  position(id: $positionId, block: {number: $blockNumber}) {\n",
    "    id\n",
    "    collectedFeesToken0\n",
    "    collectedFeesToken1\n",
    "    liquidity\n",
    "    depositedToken0\n",
    "    depositedToken1\n",
    "    token0 {\n",
    "      id\n",
    "      symbol\n",
    "      decimals\n",
    "    }\n",
    "    token1 {\n",
    "      id\n",
    "      symbol\n",
    "      decimals\n",
    "    }\n",
    "  }\n",
    "}\n",
    "\"\"\"\n",
    "\n",
    "query_variables = {\n",
    "    \"positionId\": \"453456\",\n",
    "    \"blockNumber\": 17316679\n",
    "}\n",
    "\n",
    "headers = {\"Content-Type\": \"application/json\"}\n",
    "\n",
    "data = {\n",
    "    \"query\": query,\n",
    "    \"variables\": query_variables\n",
    "}\n",
    "\n",
    "response = requests.post(url, headers=headers, json=data)\n",
    "data = response.json()\n",
    "print(data)\n",
    "\n",
    "# # Parse and access the position data\n",
    "# position = data[\"data\"][\"position\"]\n",
    "# position_id = position[\"id\"]\n",
    "# collected_fees_token0 = position[\"collectedFeesToken0\"]\n",
    "# collected_fees_token1 = position[\"collectedFeesToken1\"]\n",
    "# liquidity = position[\"liquidity\"]\n",
    "# token0_id = position[\"token0\"][\"id\"]\n",
    "# token0_symbol = position[\"token0\"][\"symbol\"]\n",
    "# token1_id = position[\"token1\"][\"id\"]\n",
    "# token1_symbol = position[\"token1\"][\"symbol\"]\n",
    "\n",
    "# # Print the retrieved data\n",
    "# print(\"Position ID:\", position_id)\n",
    "# print(\"Collected Fees Token0:\", collected_fees_token0)\n",
    "# print(\"Collected Fees Token1:\", collected_fees_token1)\n",
    "# print(\"Liquidity:\", liquidity)\n",
    "# print(\"Token0 ID:\", token0_id)\n",
    "# print(\"Token0 Symbol:\", token0_symbol)\n",
    "# print(\"Token1 ID:\", token1_id)\n",
    "# print(\"Token1 Symbol:\", token1_symbol)\n"
   ]
  },
  {
   "cell_type": "code",
   "execution_count": 33,
   "metadata": {},
   "outputs": [
    {
     "data": {
      "text/plain": [
       "{'id': '10',\n",
       " 'collectedFeesToken0': '0',\n",
       " 'collectedFeesToken1': '0',\n",
       " 'liquidity': '39095558843543104',\n",
       " 'depositedToken0': '0.000322256929184412',\n",
       " 'depositedToken1': '0.00689999999999999',\n",
       " 'token0': {'id': '0x23b608675a2b2fb1890d3abbd85c5775c51691d5',\n",
       "  'symbol': 'SOCKS',\n",
       "  'decimals': '18'},\n",
       " 'token1': {'id': '0xc02aaa39b223fe8d0a0e5c4f27ead9083c756cc2',\n",
       "  'symbol': 'WETH',\n",
       "  'decimals': '18'}}"
      ]
     },
     "execution_count": 33,
     "metadata": {},
     "output_type": "execute_result"
    }
   ],
   "source": [
    "data[\"data\"][\"positions\"][1]"
   ]
  },
  {
   "cell_type": "code",
   "execution_count": 31,
   "metadata": {},
   "outputs": [
    {
     "data": {
      "text/html": [
       "<div>\n",
       "<style scoped>\n",
       "    .dataframe tbody tr th:only-of-type {\n",
       "        vertical-align: middle;\n",
       "    }\n",
       "\n",
       "    .dataframe tbody tr th {\n",
       "        vertical-align: top;\n",
       "    }\n",
       "\n",
       "    .dataframe thead th {\n",
       "        text-align: right;\n",
       "    }\n",
       "</style>\n",
       "<table border=\"1\" class=\"dataframe\">\n",
       "  <thead>\n",
       "    <tr style=\"text-align: right;\">\n",
       "      <th></th>\n",
       "      <th>id</th>\n",
       "      <th>collectedFeesToken0</th>\n",
       "      <th>collectedFeesToken1</th>\n",
       "      <th>liquidity</th>\n",
       "      <th>depositedToken0</th>\n",
       "      <th>depositedToken1</th>\n",
       "    </tr>\n",
       "  </thead>\n",
       "  <tbody>\n",
       "    <tr>\n",
       "      <th>0</th>\n",
       "      <td>1</td>\n",
       "      <td>0</td>\n",
       "      <td>0</td>\n",
       "      <td>383995753785830744</td>\n",
       "      <td>0.999999999999999924</td>\n",
       "      <td>0.01264381746197226</td>\n",
       "    </tr>\n",
       "    <tr>\n",
       "      <th>1</th>\n",
       "      <td>10</td>\n",
       "      <td>0</td>\n",
       "      <td>0</td>\n",
       "      <td>39095558843543104</td>\n",
       "      <td>0.000322256929184412</td>\n",
       "      <td>0.00689999999999999</td>\n",
       "    </tr>\n",
       "    <tr>\n",
       "      <th>2</th>\n",
       "      <td>100</td>\n",
       "      <td>0</td>\n",
       "      <td>0</td>\n",
       "      <td>464824267666178749</td>\n",
       "      <td>0</td>\n",
       "      <td>0.005</td>\n",
       "    </tr>\n",
       "    <tr>\n",
       "      <th>3</th>\n",
       "      <td>1000</td>\n",
       "      <td>0.481427138536777453</td>\n",
       "      <td>1399.901041</td>\n",
       "      <td>8624291877397</td>\n",
       "      <td>0.499999999732311552</td>\n",
       "      <td>1496.807588</td>\n",
       "    </tr>\n",
       "    <tr>\n",
       "      <th>4</th>\n",
       "      <td>10000</td>\n",
       "      <td>0</td>\n",
       "      <td>0</td>\n",
       "      <td>1143323808949</td>\n",
       "      <td>0.000999999999999912</td>\n",
       "      <td>0</td>\n",
       "    </tr>\n",
       "  </tbody>\n",
       "</table>\n",
       "</div>"
      ],
      "text/plain": [
       "      id   collectedFeesToken0 collectedFeesToken1           liquidity  \\\n",
       "0      1                     0                   0  383995753785830744   \n",
       "1     10                     0                   0   39095558843543104   \n",
       "2    100                     0                   0  464824267666178749   \n",
       "3   1000  0.481427138536777453         1399.901041       8624291877397   \n",
       "4  10000                     0                   0       1143323808949   \n",
       "\n",
       "        depositedToken0      depositedToken1  \n",
       "0  0.999999999999999924  0.01264381746197226  \n",
       "1  0.000322256929184412  0.00689999999999999  \n",
       "2                     0                0.005  \n",
       "3  0.499999999732311552          1496.807588  \n",
       "4  0.000999999999999912                    0  "
      ]
     },
     "execution_count": 31,
     "metadata": {},
     "output_type": "execute_result"
    }
   ],
   "source": [
    "# convert data to a dataframe\n",
    "import pandas as pd\n",
    "df = pd.DataFrame(data[\"data\"][\"positions\"])\n",
    "drop = [\"token0\", \"token1\"]\n",
    "df.drop(drop, axis=1, inplace=True)\n",
    "df.head()"
   ]
  },
  {
   "attachments": {},
   "cell_type": "markdown",
   "metadata": {},
   "source": [
    "## Get Range Positions"
   ]
  },
  {
   "cell_type": "code",
   "execution_count": 35,
   "metadata": {},
   "outputs": [
    {
     "name": "stdout",
     "output_type": "stream",
     "text": [
      "{'data': {'positions': []}}\n"
     ]
    }
   ],
   "source": [
    "url = \"https://api.thegraph.com/subgraphs/name/0xbateman/ethereum-uniswap\"\n",
    "\n",
    "query = \"\"\"\n",
    "  query getRangePositions($vaultAddress: String!) {\n",
    "    positions(where: { id_contains: $vaultAddress }) {\n",
    "      id\n",
    "      openedATBlock\n",
    "      closedAtBlock\n",
    "      token0Amount\n",
    "      token1Amount\n",
    "      upperTick\n",
    "      lowerTick\n",
    "      priceSqrtAtOpening\n",
    "      vault {\n",
    "        token0\n",
    "        token1\n",
    "        pool\n",
    "      }\n",
    "    }\n",
    "  }\n",
    "\n",
    "  \"\"\"\n",
    "\n",
    "query_variables = {\n",
    "    \"vaultAddress\": \"0x350D81A7733Ee6b001966e0844A0ebb096FAbF0f\"\n",
    "}\n",
    "\n",
    "headers = {\"Content-Type\": \"application/json\"}\n",
    "\n",
    "data = {\n",
    "    \"query\": query,\n",
    "    \"variables\": query_variables\n",
    "}\n",
    "\n",
    "response = requests.post(url, headers=headers, json=data)\n",
    "data = response.json()\n",
    "\n",
    "print(data)"
   ]
  }
 ],
 "metadata": {
  "kernelspec": {
   "display_name": "Python 3",
   "language": "python",
   "name": "python3"
  },
  "language_info": {
   "codemirror_mode": {
    "name": "ipython",
    "version": 3
   },
   "file_extension": ".py",
   "mimetype": "text/x-python",
   "name": "python",
   "nbconvert_exporter": "python",
   "pygments_lexer": "ipython3",
   "version": "3.11.3"
  },
  "orig_nbformat": 4
 },
 "nbformat": 4,
 "nbformat_minor": 2
}
