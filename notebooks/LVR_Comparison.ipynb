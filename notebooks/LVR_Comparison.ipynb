{
 "cells": [
  {
   "cell_type": "code",
   "execution_count": null,
   "metadata": {},
   "outputs": [],
   "source": [
    "import pandas as pd\n",
    "\n",
    "# open df from csv\n",
    "position_366096 = pd.read_csv('notebooks/LQTYETH/LVR/Range_LQTYETH_366096_LVR_17285193_17673993.csv')\n",
    "position_453456 = pd.read_csv('notebooks/LQTYETH/LVR/Range_LQTYETH_453456_LVR_17285193_17673993.csv')\n",
    "position_506262 = pd.read_csv('notebooks/LQTYETH/LVR/Range_LQTYETH_506262_LVR_17285193_17673993.csv')\n",
    "range = pd.read_csv('notebooks/LQTYETH/LVR/Range_LQTYETH_LVR_17285193_17673993.csv')"
   ]
  }
 ],
 "metadata": {
  "language_info": {
   "name": "python"
  },
  "orig_nbformat": 4
 },
 "nbformat": 4,
 "nbformat_minor": 2
}
